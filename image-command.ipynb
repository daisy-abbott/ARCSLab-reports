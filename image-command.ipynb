{
 "cells": [
  {
   "cell_type": "code",
   "execution_count": null,
   "metadata": {},
   "outputs": [],
   "source": [
    "import matplotlib.pyplot as plt\n",
    "\n",
    "from fastai.vision.all import *\n",
    "from fastai.callback.progress import CSVLogger"
   ]
  },
  {
   "cell_type": "code",
   "execution_count": null,
   "metadata": {},
   "outputs": [],
   "source": [
    "VALID_PCT = 0.05\n",
    "NUM_EPOCHS = 3 \n",
    "DATASET_DIR = Path(\"/data/clark/summer2021/datasets\") # datset directory path\n",
    "MODEL_PATH_REL_TO_DATASET = Path(\"models\") # model path relaltive to dataset\n",
    "DATA_PATH_REL_TO_DATASET = Path(\"data\") # data path"
   ]
  },
  {
   "cell_type": "code",
   "execution_count": null,
   "metadata": {},
   "outputs": [],
   "source": [
    "DATASET_DIR.ls()"
   ]
  },
  {
   "cell_type": "code",
   "execution_count": null,
   "metadata": {},
   "outputs": [],
   "source": [
    "dataset_name = \"handmade-full\"\n",
    "path = DATASET_DIR / dataset_name\n",
    "files = get_image_files(path)\n",
    "use_pretraining = True\n",
    "rgb_instead_of_gray = True \n",
    "rep = 1\n",
    "model_name = \"resnet18\"\n",
    "data_dir = DATASET_DIR / dataset_name / DATA_PATH_REL_TO_DATASET"
   ]
  },
  {
   "cell_type": "code",
   "execution_count": null,
   "metadata": {},
   "outputs": [],
   "source": [
    "# Derived\n",
    "file_prefix = \"classification-\" + model_name\n",
    "file_prefix += '-rgb' if rgb_instead_of_gray else '-gray'\n",
    "file_prefix += '-pretrained' if use_pretraining else '-notpretrained'"
   ]
  },
  {
   "cell_type": "code",
   "execution_count": null,
   "metadata": {},
   "outputs": [],
   "source": [
    "compared_models = {\n",
    "    \"resnet18\": resnet18\n",
    "}"
   ]
  },
  {
   "cell_type": "code",
   "execution_count": null,
   "metadata": {},
   "outputs": [],
   "source": [
    "model_filename = MODEL_PATH_REL_TO_DATASET / f\"{file_prefix}-{rep}.pkl\"\n",
    "print(\"Model relative filename :\", model_filename)\n",
    "log_filename = DATA_PATH_REL_TO_DATASET / f\"{file_prefix}-trainlog-{rep}.csv\"\n",
    "print(\"Log relative filename   :\", log_filename)\n",
    "fig_filename_prefix = data_dir / file_prefix"
   ]
  },
  {
   "cell_type": "code",
   "execution_count": null,
   "metadata": {},
   "outputs": [],
   "source": [
    "def get_fig_filename(label: str, ext: str, rep: int) -> str:\n",
    "    fig_filename = f\"{fig_filename_prefix}-{label}-{rep}.{ext}\"\n",
    "    print(label, \"filename :\", fig_filename)\n",
    "    return fig_filename"
   ]
  },
  {
   "cell_type": "code",
   "execution_count": null,
   "metadata": {},
   "outputs": [],
   "source": [
    "def filename_to_class(filename: str) -> str:\n",
    "    angle = float(filename.split(\"_\")[1].split(\".\")[0].replace(\"p\", \".\"))\n",
    "    if angle > 0:\n",
    "        return \"left\"\n",
    "    elif angle < 0:\n",
    "        return \"right\"\n",
    "    else:\n",
    "        return \"forward\""
   ]
  },
  {
   "cell_type": "code",
   "execution_count": null,
   "metadata": {},
   "outputs": [],
   "source": [
    "dls = ImageDataLoaders.from_name_func(path, files, filename_to_class, valid_pct = VALID_PCT)"
   ]
  },
  {
   "cell_type": "code",
   "execution_count": null,
   "metadata": {},
   "outputs": [],
   "source": [
    "plt.savefig(get_fig_filename(\"batch\", \"pdf\", rep))"
   ]
  },
  {
   "cell_type": "code",
   "execution_count": null,
   "metadata": {},
   "outputs": [],
   "source": [
    "learn.path"
   ]
  },
  {
   "cell_type": "code",
   "execution_count": null,
   "metadata": {},
   "outputs": [],
   "source": [
    "if use_pretraining:\n",
    "    learn.fine_tune(NUM_EPOCHS)\n",
    "else:\n",
    "    learn.fit_one_cycle(NUM_EPOCHS)"
   ]
  },
  {
   "cell_type": "code",
   "execution_count": null,
   "metadata": {},
   "outputs": [],
   "source": [
    "# since the model has already been trained, do we need to export it? \n",
    "# The remove line is necessary for pickling\n",
    "learn.remove_cb(CSVLogger)\n",
    "learn.export(model_filename)"
   ]
  },
  {
   "cell_type": "code",
   "execution_count": null,
   "metadata": {},
   "outputs": [],
   "source": [
    "import torch\n",
    "from torch.utils.data import Dataset\n",
    "from torchvision.transforms import ToTensor\n",
    "from PIL import Image\n",
    "import numpy as np\n",
    "\n",
    "dataset_path = '/data/clark/summer2021/datasets/handmade-full'\n",
    "\n",
    "class ImageWithCmdDataset(Dataset):\n",
    "    def __init__(self, filenames):\n",
    "        \"\"\"\n",
    "        Creates objects for class labels, class indices, and filenames.\n",
    "        \n",
    "        :param filenames: (list) a list of filenames that make up the dataset\n",
    "        \"\"\"\n",
    "        self.class_labels = ['left', 'straight', 'right']\n",
    "        self.class_indices = {lbl: i for i, lbl in enumerate(self.class_labels)}\n",
    "        self.all_filenames = filenames\n",
    "        \n",
    "    def __len__(self):\n",
    "        \"\"\"\n",
    "        Gives length of dataset.\n",
    "        \n",
    "        :return: (int) the number of filenames in the dataset\n",
    "        \"\"\"\n",
    "        return len(self.all_filenames)\n",
    "\n",
    "    def __getitem__(self, index):\n",
    "        \"\"\"\n",
    "        Gets the filename associated with the given index, opens the image at\n",
    "        that index, then uses the image's filename to get information associated\n",
    "        with the image such as its label and the label of the previous image.\n",
    "        \n",
    "        :param index: (int) number that represents the location of the desired data\n",
    "        :return: (tuple) tuple of all the information associated with the desired data\n",
    "        \"\"\"\n",
    "        img_filename = self.all_filenames[index]\n",
    "        \n",
    "        img = Image.open(img_filename).convert('RGB')\n",
    "        img = img.resize((224, 224))\n",
    "        img = ToTensor()(img)\n",
    "        \n",
    "        label_name = filename_to_class(img_filename)\n",
    "        label = self.class_indices[label_name]\n",
    "        \n",
    "        cmd_name = 'straight'\n",
    "        if index != 0:\n",
    "            prev_img_filename = self.all_filenames[index - 1]\n",
    "            cmd_name = filename_to_class(prev_img_filename)\n",
    "        cmd = self.class_indices[cmd_name]\n",
    "        \n",
    "        return (img, cmd), label\n",
    "\n",
    "# Use the dataset_path variable when creating the dataset\n",
    "dataset = ImageWithCmdDataset(dataset_path)\n",
    "\n",
    "class CmdModel(nn.Module):\n",
    "    def __init__(self, model_arch: str, pretrained: bool):\n",
    "        super(MyModel, self).__init__()\n",
    "        self.cnn = compared_models[model_arch](pretrained=pretrained)\n",
    "        \n",
    "        self.fc1 = nn.Linear(self.cnn.fc.out_features + 1, 512)\n",
    "        self.r1 = nn.ReLU(inplace=True)\n",
    "        self.fc2 = nn.Linear(512, 3)\n",
    "        \n",
    "    def forward(self, data):\n",
    "        img, cmd = data\n",
    "        x1 = self.cnn(img)\n",
    "        x2 = cmd.unsqueeze(1)\n",
    "        \n",
    "        x = torch.cat((x1, x2), dim=1)\n",
    "        x = self.r1(self.fc1(x))\n",
    "        x = self.fc2(x)\n",
    "        return x\n",
    "    \n",
    "   "
   ]
  }
 ],
 "metadata": {
  "kernelspec": {
   "display_name": "pai",
   "language": "python",
   "name": "python3"
  },
  "language_info": {
   "codemirror_mode": {
    "name": "ipython",
    "version": 3
   },
   "file_extension": ".py",
   "mimetype": "text/x-python",
   "name": "python",
   "nbconvert_exporter": "python",
   "pygments_lexer": "ipython3",
   "version": "3.10.9"
  },
  "orig_nbformat": 4,
  "vscode": {
   "interpreter": {
    "hash": "4ad90a45d3a0b8ea9aec9cfd09108474b601b06c03a5fd07f2cd64b473598d62"
   }
  }
 },
 "nbformat": 4,
 "nbformat_minor": 2
}
