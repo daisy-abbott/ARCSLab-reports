{
 "cells": [
  {
   "cell_type": "code",
   "execution_count": null,
   "metadata": {},
   "outputs": [],
   "source": [
    "import wandb\n",
    "\n",
    "# Initialize W&B run (if not already initialized)\n",
    "run = wandb.init(project=\"further-testing-da\", entity=\"daisyabbott\")\n",
    "\n",
    "# Load the dataset artifact\n",
    "artifact = run.use_artifact(\"arcslaboratory/Multirun-testing-1K+/larger-perfect-dataset:v0\")\n",
    "artifact_dir = artifact.download()\n",
    "\n",
    "# Update the dataset path\n",
    "dataset_path = artifact_dir + \"/data/largedata\"  # Path to the extracted images from the artifact"
   ]
  },
  {
   "cell_type": "code",
   "execution_count": null,
   "metadata": {},
   "outputs": [],
   "source": [
    "import matplotlib.pyplot as plt\n",
    "from fastai.vision.all import *\n",
    "from fastai.callback.progress import CSVLogger\n",
    "import torch\n",
    "from torch.utils.data import Dataset\n",
    "from torchvision.transforms import ToTensor\n",
    "from PIL import Image\n",
    "import numpy as np\n",
    "from pathlib import Path"
   ]
  },
  {
   "cell_type": "code",
   "execution_count": null,
   "metadata": {},
   "outputs": [],
   "source": [
    "#validation percent and num of epochs\n",
    "VALID_PCT = 0.05\n",
    "NUM_EPOCHS = 3 "
   ]
  },
  {
   "cell_type": "code",
   "execution_count": null,
   "metadata": {},
   "outputs": [],
   "source": [
    "# adjusted from initial raycasting file for simpler access\n",
    "from pathlib import Path\n",
    "current_dir = Path.cwd()\n",
    "relative_path = \"artifacts/larger-perfect-dataset:v0/data\"\n",
    "path = current_dir / relative_path"
   ]
  },
  {
   "cell_type": "code",
   "execution_count": null,
   "metadata": {},
   "outputs": [],
   "source": [
    "path.ls()"
   ]
  },
  {
   "cell_type": "code",
   "execution_count": null,
   "metadata": {},
   "outputs": [],
   "source": [
    "files = get_image_files(path)\n",
    "use_pretraining = True\n",
    "rgb_instead_of_gray = True \n",
    "rep = 1\n",
    "model_name = \"resnet18\""
   ]
  },
  {
   "cell_type": "code",
   "execution_count": null,
   "metadata": {},
   "outputs": [],
   "source": [
    "# Derived\n",
    "file_prefix = \"classification-\" + model_name\n",
    "file_prefix += '-rgb' if rgb_instead_of_gray else '-gray'\n",
    "file_prefix += '-pretrained' if use_pretraining else '-notpretrained'"
   ]
  },
  {
   "cell_type": "code",
   "execution_count": null,
   "metadata": {},
   "outputs": [],
   "source": [
    "compared_models = {\n",
    "    \"resnet18\": resnet18\n",
    "}"
   ]
  },
  {
   "cell_type": "code",
   "execution_count": null,
   "metadata": {},
   "outputs": [],
   "source": [
    "# I may need to double check the vars in this\n",
    "model_filename = path / f\"{file_prefix}-{rep}.pkl\"\n",
    "print(\"Model relative filename :\", model_filename)\n",
    "log_filename = path / f\"{file_prefix}-trainlog-{rep}.csv\"\n",
    "print(\"Log relative filename   :\", log_filename)\n",
    "print(\"Log relative filename   :\", log_filename)\n",
    "fig_filename_prefix = path / file_prefix"
   ]
  },
  {
   "cell_type": "code",
   "execution_count": null,
   "metadata": {},
   "outputs": [],
   "source": [
    "def get_fig_filename(label: str, ext: str, rep: int) -> str:\n",
    "    fig_filename = f\"{fig_filename_prefix}-{label}-{rep}.{ext}\"\n",
    "    print(label, \"filename :\", fig_filename)\n",
    "    return fig_filename"
   ]
  },
  {
   "cell_type": "code",
   "execution_count": null,
   "metadata": {},
   "outputs": [],
   "source": [
    "def filename_to_class(filename: str) -> str:\n",
    "    angle = float(filename.split(\"_\")[1].split(\".\")[0].replace(\"p\", \".\"))\n",
    "    if angle > 0:\n",
    "        return \"left\"\n",
    "    elif angle < 0:\n",
    "        return \"right\"\n",
    "    else:\n",
    "        return \"forward\""
   ]
  },
  {
   "cell_type": "code",
   "execution_count": null,
   "metadata": {},
   "outputs": [],
   "source": [
    "dls = ImageDataLoaders.from_name_func(path, files, filename_to_class, valid_pct = VALID_PCT)"
   ]
  },
  {
   "cell_type": "code",
   "execution_count": null,
   "metadata": {},
   "outputs": [],
   "source": [
    "plt.savefig(get_fig_filename(\"batch\", \"pdf\", rep))"
   ]
  },
  {
   "cell_type": "code",
   "execution_count": null,
   "metadata": {},
   "outputs": [],
   "source": [
    "learn = cnn_learner(dls, compared_models[model_name], metrics=accuracy, pretrained=use_pretraining, cbs=CSVLogger(fname=log_filename))"
   ]
  },
  {
   "cell_type": "code",
   "execution_count": null,
   "metadata": {},
   "outputs": [],
   "source": [
    "learn.path"
   ]
  },
  {
   "cell_type": "code",
   "execution_count": null,
   "metadata": {},
   "outputs": [],
   "source": [
    "if use_pretraining:\n",
    "    learn.fine_tune(NUM_EPOCHS)\n",
    "else:\n",
    "    learn.fit_one_cycle(NUM_EPOCHS)"
   ]
  }
 ],
 "metadata": {
  "language_info": {
   "name": "python"
  },
  "orig_nbformat": 4
 },
 "nbformat": 4,
 "nbformat_minor": 2
}
