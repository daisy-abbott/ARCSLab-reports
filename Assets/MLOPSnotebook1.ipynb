{
 "cells": [
  {
   "cell_type": "code",
   "execution_count": 14,
   "id": "637519db",
   "metadata": {},
   "outputs": [
    {
     "name": "stdout",
     "output_type": "stream",
     "text": [
      "\u001b[0m"
     ]
    }
   ],
   "source": [
    "# install wandb\n",
    "!pip install wandb -qq"
   ]
  },
  {
   "cell_type": "code",
   "execution_count": 16,
   "id": "111bcb75",
   "metadata": {},
   "outputs": [],
   "source": [
    "from fastai.vision.all import *\n",
    "import params\n",
    "import wandb\n"
   ]
  },
  {
   "cell_type": "code",
   "execution_count": 17,
   "id": "22b86248",
   "metadata": {},
   "outputs": [],
   "source": [
    "URL = 'https://storage.googleapis.com/wandb_course/bdd_simple_1k.zip'"
   ]
  },
  {
   "cell_type": "code",
   "execution_count": 18,
   "id": "6465f3dc",
   "metadata": {},
   "outputs": [
    {
     "data": {
      "text/html": [
       "\n",
       "<style>\n",
       "    /* Turns off some styling */\n",
       "    progress {\n",
       "        /* gets rid of default border in Firefox and Opera. */\n",
       "        border: none;\n",
       "        /* Needs to be in here for Safari polyfill so background images work as expected. */\n",
       "        background-size: auto;\n",
       "    }\n",
       "    progress:not([value]), progress:not([value])::-webkit-progress-bar {\n",
       "        background: repeating-linear-gradient(45deg, #7e7e7e, #7e7e7e 10px, #5c5c5c 10px, #5c5c5c 20px);\n",
       "    }\n",
       "    .progress-bar-interrupted, .progress-bar-interrupted::-webkit-progress-bar {\n",
       "        background: #F44336;\n",
       "    }\n",
       "</style>\n"
      ],
      "text/plain": [
       "<IPython.core.display.HTML object>"
      ]
     },
     "metadata": {},
     "output_type": "display_data"
    },
    {
     "data": {
      "text/html": [
       "\n",
       "    <div>\n",
       "      <progress value='122470400' class='' max='122467691' style='width:300px; height:20px; vertical-align: middle;'></progress>\n",
       "      100.00% [122470400/122467691 00:03&lt;00:00]\n",
       "    </div>\n",
       "    "
      ],
      "text/plain": [
       "<IPython.core.display.HTML object>"
      ]
     },
     "metadata": {},
     "output_type": "display_data"
    }
   ],
   "source": [
    "path = Path(untar_data(URL, force_download = True))"
   ]
  },
  {
   "cell_type": "code",
   "execution_count": 19,
   "id": "2dca76ca",
   "metadata": {},
   "outputs": [
    {
     "data": {
      "text/plain": [
       "(#1000) [Path('/home/dcad2021/.fastai/data/bdd_simple_1k/images/a59131a5-00000000.jpg'),Path('/home/dcad2021/.fastai/data/bdd_simple_1k/images/6886b3d9-6ab2b28d.jpg'),Path('/home/dcad2021/.fastai/data/bdd_simple_1k/images/115e4aff-00000000.jpg'),Path('/home/dcad2021/.fastai/data/bdd_simple_1k/images/b803d91d-671b8cff.jpg'),Path('/home/dcad2021/.fastai/data/bdd_simple_1k/images/c665137e-6fffaf45.jpg'),Path('/home/dcad2021/.fastai/data/bdd_simple_1k/images/6b293d3e-59d5f868.jpg'),Path('/home/dcad2021/.fastai/data/bdd_simple_1k/images/898ac5b9-00000000.jpg'),Path('/home/dcad2021/.fastai/data/bdd_simple_1k/images/a91b7555-00001125.jpg'),Path('/home/dcad2021/.fastai/data/bdd_simple_1k/images/16e186ec-00000000.jpg'),Path('/home/dcad2021/.fastai/data/bdd_simple_1k/images/b18cb922-e3af77af.jpg')...]"
      ]
     },
     "execution_count": 19,
     "metadata": {},
     "output_type": "execute_result"
    }
   ],
   "source": [
    "# view structure of dataset\n",
    "# path.ls()\n",
    "(path/'images').ls()"
   ]
  },
  {
   "cell_type": "code",
   "execution_count": 20,
   "id": "c3db9c88",
   "metadata": {},
   "outputs": [],
   "source": [
    "def label_func(fname):\n",
    "    return (Fname.parent.parent/\"labels\")/f\"{fname.stem}_mask.png\"\n",
    "def get_classes_per_image(mask_data, class_labels):\n",
    "    unique = list(np.unique(mask_data))\n",
    "    result_dict = {}\n",
    "    for _class in class_labels.keys():\n",
    "        result_dict[class_labels[_class]] = int(_class in unique)\n",
    "    return result_dict \n",
    "\n",
    "def _create_table(image_files, class_labels):\n",
    "    \"Create a table with the dataset\"\n",
    "    labels = [str(class_labels[_lab]) for _lab in list(class_labels)]\n",
    "    tables = wandb.Table(columns = [\"File_Name\", \"P1\", \"P2\", \"Images\", \"dataset\"] + labels)\n",
    "    \n",
    "    for i, image_file in progress_bar(enumerate(image_files), total = len(image_files)):\n",
    "        image = Image.open(image_file)\n",
    "        mask_data = np.array(Image.open(label_func(image_files)))\n",
    "        class_in_image = get_classes_per_image(mask_data, class_labels)\n",
    "        table.add_data(\n",
    "        image_file.stem,\n",
    "        image_file.stem.split('-')[0],\n",
    "        image_file.stem.split('-')[1],\n",
    "        wandb.Image(\n",
    "        image,\n",
    "        masks = {\n",
    "            \"predictions\": {\n",
    "                \"mask_data\": mask_data,\n",
    "                \"class_labels\": class_labels\n",
    "            }\n",
    "        }\n",
    "        ), \n",
    "            \"bdd1k\", \n",
    "            *[class_in_image[_lab] for _labe in labels]\n",
    "        )  \n",
    "    return table                            \n",
    "                  "
   ]
  },
  {
   "cell_type": "code",
   "execution_count": 21,
   "id": "2e169847",
   "metadata": {},
   "outputs": [
    {
     "ename": "AttributeError",
     "evalue": "module 'params' has no attribute 'WANDB_PROJECT'",
     "output_type": "error",
     "traceback": [
      "\u001b[0;31m---------------------------------------------------------------------------\u001b[0m",
      "\u001b[0;31mAttributeError\u001b[0m                            Traceback (most recent call last)",
      "Cell \u001b[0;32mIn[21], line 1\u001b[0m\n\u001b[0;32m----> 1\u001b[0m run \u001b[38;5;241m=\u001b[39m wandb\u001b[38;5;241m.\u001b[39minit(project \u001b[38;5;241m=\u001b[39m \u001b[43mparams\u001b[49m\u001b[38;5;241;43m.\u001b[39;49m\u001b[43mWANDB_PROJECT\u001b[49m, entity \u001b[38;5;241m=\u001b[39m params\u001b[38;5;241m.\u001b[39mENTITY, job_type \u001b[38;5;241m=\u001b[39m \u001b[38;5;124m\"\u001b[39m\u001b[38;5;124mupload\u001b[39m\u001b[38;5;124m\"\u001b[39m)\n",
      "\u001b[0;31mAttributeError\u001b[0m: module 'params' has no attribute 'WANDB_PROJECT'"
     ]
    }
   ],
   "source": [
    "run = wandb.init(project = params.WANDB_PROJECT, entity = params.ENTITY, job_type = \"upload\")"
   ]
  },
  {
   "cell_type": "code",
   "execution_count": null,
   "id": "0d7216f0",
   "metadata": {},
   "outputs": [],
   "source": []
  }
 ],
 "metadata": {
  "kernelspec": {
   "display_name": "Python 3 (ipykernel)",
   "language": "python",
   "name": "python3"
  },
  "language_info": {
   "codemirror_mode": {
    "name": "ipython",
    "version": 3
   },
   "file_extension": ".py",
   "mimetype": "text/x-python",
   "name": "python",
   "nbconvert_exporter": "python",
   "pygments_lexer": "ipython3",
   "version": "3.10.8"
  }
 },
 "nbformat": 4,
 "nbformat_minor": 5
}
